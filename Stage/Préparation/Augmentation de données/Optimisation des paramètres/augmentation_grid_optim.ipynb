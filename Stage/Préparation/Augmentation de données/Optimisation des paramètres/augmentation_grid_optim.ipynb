{
 "cells": [
  {
   "cell_type": "markdown",
   "metadata": {},
   "source": [
    "# Imports"
   ]
  },
  {
   "cell_type": "code",
   "execution_count": 2,
   "metadata": {},
   "outputs": [],
   "source": [
    "import os\n",
    "import glob\n",
    "\n",
    "# Augmentation\n",
    "import albumentations as A\n",
    "import cv2\n",
    "import numpy as np\n",
    "from matplotlib import pyplot as plt\n",
    "%matplotlib inline\n",
    "\n",
    "# Training\n",
    "from ultralytics import YOLO"
   ]
  },
  {
   "cell_type": "markdown",
   "metadata": {},
   "source": [
    "# Détail des grilles de test/paramètres"
   ]
  },
  {
   "cell_type": "code",
   "execution_count": null,
   "metadata": {},
   "outputs": [],
   "source": [
    "# probability\n",
    "p_grid = [0, 0.25, 0.5, 1]\n",
    "# pixels\n",
    "Gamma_grid = [100, 200, 500, 1000] # plus grand donne plus de contraste\n",
    "IsoNoise_grid = [(0.1, 0.5), (0.1, 1), (0.5, 1), (1, 10), (0, 10)]\n",
    "MultNoise_grid = [(1.1), (0.9), (0.9, 1.1), (0.8, 1.2), (0.5, 2)] # multiplie la valeur des pixels\n",
    "GaussNoise_var_grid = [(10.0, 50.0), (10, 75), (50, 75)] #bruit\n",
    "GaussNoise_mean_grid = [0, 10, 30, 50] # luminosité\n",
    "CLAHE_clip_grid = [2, 4, 6, 10]\n",
    "CLAHE_grid_grid = [(4, 4), (8, 8), (16, 16), (100, 100)]\n",
    "# space\n",
    "Rotate_grid = [10, 20, 30, 40] # mettre plus grand reviendrai avoir des 90° avec ces valeurs (et plus de calculs)\n",
    "Dropout_p_grid = [0.01, 0.05, 0.1, 0.13]"
   ]
  },
  {
   "cell_type": "markdown",
   "metadata": {},
   "source": [
    "## Une telle grille correspondrai à environ 1.2 * 10^12 combinaisons\n",
    "## Avec 1 minute d'entraînement par combinaison (si très petit modèle et très peu d'images) cela donnerai 2451465 années d'entraînement\n",
    "\n",
    "<span style=\"color:red\">Impossible</span>"
   ]
  },
  {
   "cell_type": "code",
   "execution_count": null,
   "metadata": {},
   "outputs": [],
   "source": [
    "\n",
    "name = \"grid_\" # ajouter numero pour faire des sous dossier de resultats suivant les parametres d'augmentation\n",
    "cfg = \"cfg.yaml\""
   ]
  },
  {
   "cell_type": "code",
   "execution_count": null,
   "metadata": {},
   "outputs": [],
   "source": [
    "model = YOLO(\"yolov8x.pt\")\n",
    "\n",
    "model.train(cfg =cfg, name = name)"
   ]
  }
 ],
 "metadata": {
  "kernelspec": {
   "display_name": "albumentations",
   "language": "python",
   "name": "python3"
  },
  "language_info": {
   "codemirror_mode": {
    "name": "ipython",
    "version": 3
   },
   "file_extension": ".py",
   "mimetype": "text/x-python",
   "name": "python",
   "nbconvert_exporter": "python",
   "pygments_lexer": "ipython3",
   "version": "3.12.3"
  }
 },
 "nbformat": 4,
 "nbformat_minor": 2
}
