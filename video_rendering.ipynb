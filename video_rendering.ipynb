{
 "cells": [
  {
   "cell_type": "code",
   "execution_count": 6,
   "metadata": {},
   "outputs": [],
   "source": [
    "import cv2\n",
    "import numpy as np\n",
    "from ultralytics import YOLO\n",
    "import supervision as sv\n",
    "import os\n",
    "\n",
    "model = YOLO(\"runs/detect/train4/weights/best.pt\")\n"
   ]
  },
  {
   "cell_type": "code",
   "execution_count": 3,
   "metadata": {},
   "outputs": [],
   "source": [
    "def read_video(video_path):\n",
    "    cap = cv2.VideoCapture(video_path)\n",
    "    frames = []\n",
    "    while True:\n",
    "        ret, frame = cap.read()\n",
    "        if not ret:\n",
    "            break\n",
    "        frames.append(frame)\n",
    "    cap.release()\n",
    "    return frames\n",
    "\n",
    "def save_video(output_video_frames, output_video_path):\n",
    "    fourcc = cv2.VideoWriter_fourcc(*'MJPG')\n",
    "    out = cv2.VideoWriter(output_video_path, fourcc, 24, (output_video_frames[0].shape[1], output_video_frames[0].shape[0]))\n",
    "    for frame in output_video_frames:\n",
    "        out.write(frame)\n",
    "    out.release()"
   ]
  },
  {
   "cell_type": "code",
   "execution_count": 9,
   "metadata": {},
   "outputs": [],
   "source": [
    "bounding_box_annotator = sv.BoundingBoxAnnotator()\n",
    "label_annotator = sv.LabelAnnotator()\n",
    "\n",
    "def render_video(video_path, output_video_path):\n",
    "    if not os.path.exists(video_path):\n",
    "        raise FileNotFoundError(f\"File {video_path} does not exist\")\n",
    "    frames = read_video(video_path)\n",
    "    output_video_frames = []\n",
    "    for frame in frames:\n",
    "        frame = cv2.resize(frame, (640, 640))\n",
    "        results = model(frame)[0]\n",
    "        detections = sv.Detections.from_ultralytics(results)\n",
    "        labels = [model.model.names[class_id]\n",
    "                  for class_id in detections.class_id]\n",
    "        annotated_frame = bounding_box_annotator.annotate(\n",
    "            scene=frame, detections=detections)\n",
    "        annotated_frame = label_annotator.annotate(\n",
    "            scene=annotated_frame, detections=detections, labels=labels\n",
    "        )\n",
    "        output_video_frames.append(annotated_frame)\n",
    "    save_video(output_video_frames, output_video_path)\n",
    "\n",
    "\n",
    "video_path = \"VID20240408175741.mp4\"\n",
    "output_video_path = \"output.mp4\"\n",
    "render_video(video_path, output_video_path)"
   ]
  },
  {
   "cell_type": "code",
   "execution_count": 2,
   "metadata": {},
   "outputs": [],
   "source": [
    "import cv2\n",
    "import time\n",
    "\n",
    "cap = cv2.VideoCapture(\"output.mp4\")\n",
    "\n",
    "# Get the frame rate of the video\n",
    "fps = cap.get(cv2.CAP_PROP_FPS)\n",
    "\n",
    "while True:\n",
    "    ret, frame = cap.read()\n",
    "    if not ret:\n",
    "        break\n",
    "    cv2.imshow(\"frame\", frame)\n",
    "    # Wait for the correct delay between frames\n",
    "    time.sleep(0.9/ fps)\n",
    "    if cv2.waitKey(1) & 0xFF == ord('q'):\n",
    "        break\n",
    "cap.release()\n",
    "cv2.destroyAllWindows()"
   ]
  }
 ],
 "metadata": {
  "kernelspec": {
   "display_name": ".venv",
   "language": "python",
   "name": "python3"
  },
  "language_info": {
   "codemirror_mode": {
    "name": "ipython",
    "version": 3
   },
   "file_extension": ".py",
   "mimetype": "text/x-python",
   "name": "python",
   "nbconvert_exporter": "python",
   "pygments_lexer": "ipython3",
   "version": "3.10.12"
  }
 },
 "nbformat": 4,
 "nbformat_minor": 2
}
