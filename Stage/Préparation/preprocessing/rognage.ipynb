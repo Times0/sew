{
 "cells": [
  {
   "cell_type": "code",
   "execution_count": 3,
   "metadata": {},
   "outputs": [],
   "source": [
    "import cv2\n",
    "from glob import glob\n",
    "from os import mkdir, listdir\n",
    "from tqdm import tqdm"
   ]
  },
  {
   "cell_type": "code",
   "execution_count": 4,
   "metadata": {},
   "outputs": [
    {
     "name": "stderr",
     "output_type": "stream",
     "text": [
      "actuel: 100%|██████████| 2/2 [00:00<00:00,  5.48it/s]\n",
      "images: 100%|██████████| 7/7 [00:01<00:00,  5.34it/s]\n",
      "train: 100%|██████████| 107/107 [00:24<00:00,  4.46it/s]\n",
      "dir: 100%|██████████| 3/3 [00:25<00:00,  8.57s/it]\n"
     ]
    }
   ],
   "source": [
    "# source\n",
    "sub_dirs = listdir(\"sources\")\n",
    "try:\n",
    "    mkdir('rognes')\n",
    "except OSError as error:  \n",
    "    print(error)\n",
    "\n",
    "# dossier rogné\n",
    "for sub_dir in tqdm(sub_dirs, desc = 'dir'):\n",
    "    src_dir_fd=\"sources/\" + sub_dir\n",
    "    res_dir_fd=\"rognes/\" + sub_dir\n",
    "    try:\n",
    "        mkdir(res_dir_fd)\n",
    "    except OSError as error:  \n",
    "        print(error)\n",
    "    images = glob('*.jpg', dir_fd=src_dir_fd)\n",
    "\n",
    "    for img_name in tqdm(images, desc = sub_dir):\n",
    "        img_src = cv2.imread(src_dir_fd + '/' + img_name)\n",
    "        crop_img = img_src[650:, 400:1600] # [y, x]\n",
    "        crop_img_name = res_dir_fd + '/' + img_name\n",
    "        cv2.imwrite(crop_img_name, crop_img)\n",
    "\n",
    "\n"
   ]
  }
 ],
 "metadata": {
  "kernelspec": {
   "display_name": "albumentations",
   "language": "python",
   "name": "python3"
  },
  "language_info": {
   "codemirror_mode": {
    "name": "ipython",
    "version": 3
   },
   "file_extension": ".py",
   "mimetype": "text/x-python",
   "name": "python",
   "nbconvert_exporter": "python",
   "pygments_lexer": "ipython3",
   "version": "3.12.4"
  }
 },
 "nbformat": 4,
 "nbformat_minor": 2
}
