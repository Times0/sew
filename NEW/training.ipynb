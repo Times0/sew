{
 "cells": [
  {
   "cell_type": "code",
   "execution_count": 1,
   "metadata": {},
   "outputs": [],
   "source": [
    "import os\n",
    "from ultralytics import YOLO"
   ]
  },
  {
   "cell_type": "code",
   "execution_count": null,
   "metadata": {},
   "outputs": [],
   "source": [
    "\n",
    "path = os.path.join(os.getcwd(), 'dataset', 'frontview1_ready')\n",
    "print(path)"
   ]
  },
  {
   "cell_type": "code",
   "execution_count": null,
   "metadata": {},
   "outputs": [],
   "source": [
    "# Load a model\n",
    "model = YOLO(\"yolo11m\")  # load a pretrained model (recommended for training)\n",
    "\n",
    "# Train the model\n",
    "model.train(cfg='cfg_det.yaml', data = os.path.join(path, 'data.yaml'), name = 'frontview_trainings', batch = 2, epochs = 100, iou = 0.8)"
   ]
  },
  {
   "cell_type": "code",
   "execution_count": 9,
   "metadata": {},
   "outputs": [
    {
     "name": "stdout",
     "output_type": "stream",
     "text": [
      "loading Roboflow workspace...\n",
      "loading Roboflow project...\n",
      "View the status of your deployment at: https://app.roboflow.com/cilcare/topboxdetection/5\n",
      "Share your model with the world at: https://universe.roboflow.com/cilcare/topboxdetection/model/5\n"
     ]
    }
   ],
   "source": [
    "# upload model to roboflow\n",
    "from roboflow import Roboflow\n",
    "rf = Roboflow(api_key=\"PfgdGiZ3LwFyIZrOhgl7\")\n",
    "project = rf.workspace(\"cilcare\").project(\"topboxdetection\")\n",
    "version = project.version(5)\n",
    "upload = version.deploy(\"yolov11\",r\"\")                "
   ]
  }
 ],
 "metadata": {
  "kernelspec": {
   "display_name": "projet",
   "language": "python",
   "name": "python3"
  },
  "language_info": {
   "codemirror_mode": {
    "name": "ipython",
    "version": 3
   },
   "file_extension": ".py",
   "mimetype": "text/x-python",
   "name": "python",
   "nbconvert_exporter": "python",
   "pygments_lexer": "ipython3",
   "version": "3.11.8"
  }
 },
 "nbformat": 4,
 "nbformat_minor": 2
}
