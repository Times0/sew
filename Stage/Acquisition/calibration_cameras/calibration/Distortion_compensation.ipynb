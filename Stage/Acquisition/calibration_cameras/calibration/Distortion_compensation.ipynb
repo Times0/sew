{
 "cells": [
  {
   "cell_type": "markdown",
   "metadata": {},
   "source": [
    "# Recherche des coins de l'echequier"
   ]
  },
  {
   "cell_type": "markdown",
   "metadata": {},
   "source": [
    "spécifier la camera à calibrer"
   ]
  },
  {
   "cell_type": "code",
   "execution_count": null,
   "metadata": {},
   "outputs": [],
   "source": [
    "camera_name = \"1\" # nom du dossier pour camera_<nom>"
   ]
  },
  {
   "cell_type": "code",
   "execution_count": 50,
   "metadata": {},
   "outputs": [],
   "source": [
    "# https://docs.opencv.org/4.x/dc/dbb/tutorial_py_calibration.html\n",
    "\n",
    "import numpy as np\n",
    "import cv2 as cv\n",
    "import glob\n",
    " \n",
    "# termination criteria\n",
    "criteria = (cv.TERM_CRITERIA_EPS + cv.TERM_CRITERIA_MAX_ITER, 30, 0.001)\n",
    " \n",
    "# prepare object points, like (0,0,0), (1,0,0), (2,0,0) ....,(6,5,0)\n",
    "objp = np.zeros((6*8,3), np.float32)\n",
    "objp[:,:2] = np.mgrid[0:6,0:8].T.reshape(-1,2)\n",
    " \n",
    "# Arrays to store object points and image points from all the images.\n",
    "objpoints = [] # 3d point in real world space\n",
    "imgpoints = [] # 2d points in image plane.\n",
    "chess_path = \"camera_\"+camera_name+\"/chess/\"\n",
    "images = glob.glob('*.jpg', dir_fd=chess_path)\n",
    " \n",
    "for fname in images:\n",
    " fname = dir_fd=\"camera_\"+camera_name+\"/chess/\"+fname\n",
    " img = cv.imread(fname)\n",
    " gray = cv.cvtColor(img, cv.COLOR_BGR2GRAY)\n",
    " \n",
    " # Find the chess board corners\n",
    " ret, corners = cv.findChessboardCorners(gray, (6,8), None) # (height, width), nombre de coins internes (si trop grand donne erreur)\n",
    " \n",
    " # If found, add object points, image points (after refining them)\n",
    " if ret == True:\n",
    "    objpoints.append(objp)\n",
    " \n",
    " corners2 = cv.cornerSubPix(gray,corners, (11,11), (-1,-1), criteria)\n",
    " imgpoints.append(corners2)\n",
    " \n",
    " # Draw and display the corners\n",
    " cv.drawChessboardCorners(img, (7,6), corners2, ret)\n",
    " cv.imshow('img', img)\n",
    " cv.waitKey(500)\n",
    " \n",
    "cv.destroyAllWindows()"
   ]
  },
  {
   "cell_type": "markdown",
   "metadata": {},
   "source": [
    "# Calcul des caractéristiques internes de la camera\n",
    "\n",
    "Les calculs sont fait à partir des points trouvés précedemment "
   ]
  },
  {
   "cell_type": "code",
   "execution_count": 49,
   "metadata": {},
   "outputs": [],
   "source": [
    "dir_path = \"camera_\"+camera_name+\"/calibrations_matrix/\"\n",
    "ret, mtx, dist, rvecs, tvecs = cv.calibrateCamera(objpoints, imgpoints, gray.shape[::-1], None, None)\n",
    "\n",
    "np.savetxt(dir_path+'cam1_mtx.txt', mtx)\n",
    "np.savetxt(dir_path+'cam1_dist.txt', dist)"
   ]
  },
  {
   "cell_type": "markdown",
   "metadata": {},
   "source": [
    "# Calibration"
   ]
  },
  {
   "cell_type": "markdown",
   "metadata": {},
   "source": [
    "## Toutes les images"
   ]
  },
  {
   "cell_type": "code",
   "execution_count": 79,
   "metadata": {},
   "outputs": [],
   "source": [
    "uncalibrated_path = \"camera_\"+camera_name+\"/chess/\"\n",
    "calibrated_path = \"camera_\"+camera_name+\"/calibrated/\"\n",
    "images = glob.glob('*.jpg', dir_fd=uncalibrated_path)\n",
    " \n",
    "for fname in images:\n",
    "    img = cv.imread(uncalibrated_path+fname)\n",
    "    h, w = img.shape[:2]\n",
    "    newcameramtx, roi = cv.getOptimalNewCameraMatrix(mtx, dist, (w,h), 1, (w,h))\n",
    "\n",
    "    # undistort\n",
    "    dst = cv.undistort(img, mtx, dist, None, newcameramtx)\n",
    "    \n",
    "    # crop the image\n",
    "    x, y, w, h = roi\n",
    "    dst = dst[y:y+h, x:x+w]\n",
    "    cv.imwrite(calibrated_path +'calibrated_'+ fname, dst)"
   ]
  },
  {
   "cell_type": "markdown",
   "metadata": {},
   "source": [
    "## Une image"
   ]
  },
  {
   "cell_type": "markdown",
   "metadata": {},
   "source": [
    "### Importer l'image à retoucher"
   ]
  },
  {
   "cell_type": "code",
   "execution_count": 61,
   "metadata": {},
   "outputs": [],
   "source": [
    "img = cv.imread('camera_1/chess/2024-06-04 11-31-32.jpg')\n",
    "mtx = np.loadtxt(dir_path+'cam1_mtx.txt')\n",
    "dist = np.loadtxt(dir_path+'cam1_dist.txt')\n",
    "h, w = img.shape[:2]\n",
    "newcameramtx, roi = cv.getOptimalNewCameraMatrix(mtx, dist, (w,h), 1, (w,h))"
   ]
  },
  {
   "cell_type": "markdown",
   "metadata": {},
   "source": [
    "### Compenser la distortion"
   ]
  },
  {
   "cell_type": "code",
   "execution_count": 62,
   "metadata": {},
   "outputs": [
    {
     "data": {
      "text/plain": [
       "True"
      ]
     },
     "execution_count": 62,
     "metadata": {},
     "output_type": "execute_result"
    }
   ],
   "source": [
    "# undistort\n",
    "dst = cv.undistort(img, mtx, dist, None, newcameramtx)\n",
    " \n",
    "# crop the image\n",
    "x, y, w, h = roi\n",
    "dst = dst[y:y+h, x:x+w]\n",
    "cv.imwrite('calibresult.png', dst)"
   ]
  },
  {
   "cell_type": "markdown",
   "metadata": {},
   "source": [
    "# Evaluation"
   ]
  },
  {
   "cell_type": "code",
   "execution_count": null,
   "metadata": {},
   "outputs": [],
   "source": [
    "mean_error = 0\n",
    "for i in range(len(objpoints)):\n",
    " imgpoints2, _ = cv.projectPoints(objpoints[i], rvecs[i], tvecs[i], mtx, dist)\n",
    " error = cv.norm(imgpoints[i], imgpoints2, cv.NORM_L2)/len(imgpoints2)\n",
    " mean_error += error\n",
    " \n",
    "print( \"total error: {}\".format(mean_error/len(objpoints)) )"
   ]
  }
 ],
 "metadata": {
  "kernelspec": {
   "display_name": "cv2",
   "language": "python",
   "name": "python3"
  },
  "language_info": {
   "codemirror_mode": {
    "name": "ipython",
    "version": 3
   },
   "file_extension": ".py",
   "mimetype": "text/x-python",
   "name": "python",
   "nbconvert_exporter": "python",
   "pygments_lexer": "ipython3",
   "version": "3.12.3"
  }
 },
 "nbformat": 4,
 "nbformat_minor": 2
}
