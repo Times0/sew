{
 "cells": [
  {
   "cell_type": "code",
   "execution_count": null,
   "metadata": {},
   "outputs": [],
   "source": [
    "from ultralytics import YOLO\n",
    "import cv2\n",
    "import supervision as sv\n",
    "import matplotlib.pyplot as plt\n",
    "\n",
    "\n",
    "model = YOLO(\"best(5).pt\")\n"
   ]
  },
  {
   "cell_type": "code",
   "execution_count": null,
   "metadata": {},
   "outputs": [],
   "source": [
    "# Load the image\n",
    "image_path = r\"data\\good_highground_images\\1000017732.jpg\"\n",
    "image = cv2.imread(image_path)\n",
    "# Resize the image to the model's input size (640x640)\n",
    "image = cv2.resize(image, (640, 640))\n",
    "\n",
    "# Perform inference\n",
    "results = model(image)[0]\n",
    "detections = sv.Detections.from_ultralytics(results)\n",
    "\n",
    "# Get the labels\n",
    "labels = [model.model.names[class_id] for class_id in detections.class_id]\n",
    "\n",
    "# Annotate the image\n",
    "bounding_box_annotator = sv.BoundingBoxAnnotator()\n",
    "label_annotator = sv.LabelAnnotator()\n",
    "\n",
    "annotated_image = bounding_box_annotator.annotate(scene=image, detections=detections)\n",
    "annotated_image = label_annotator.annotate(\n",
    "    scene=annotated_image, detections=detections, labels=labels\n",
    ")\n",
    "\n",
    "# Display the annotated image\n",
    "plt.imshow(cv2.cvtColor(annotated_image, cv2.COLOR_BGR2RGB))\n",
    "plt.axis(\"off\")\n",
    "plt.show()"
   ]
  },
  {
   "cell_type": "code",
   "execution_count": null,
   "metadata": {},
   "outputs": [],
   "source": [
    "import glob\n",
    "for image_path in glob.glob(\"data/4G/*.JPG\") + glob.glob(\"data/B4/*.JPG\"):\n",
    "    image = cv2.imread(image_path)\n",
    "    image = cv2.resize(image, (640, 640))\n",
    "    results = model(image)[0]\n",
    "    detections = sv.Detections.from_ultralytics(results)\n",
    "    labels = [model.model.names[class_id] for class_id in detections.class_id]\n",
    "    annotated_image = bounding_box_annotator.annotate(scene=image, detections=detections)\n",
    "    annotated_image = label_annotator.annotate(\n",
    "        scene=annotated_image, detections=detections, labels=labels\n",
    "    )\n",
    "    plt.imshow(cv2.cvtColor(annotated_image, cv2.COLOR_BGR2RGB))\n",
    "    plt.axis(\"off\")\n",
    "    plt.show()"
   ]
  },
  {
   "cell_type": "code",
   "execution_count": null,
   "metadata": {},
   "outputs": [],
   "source": [
    "def read_video(video_path):\n",
    "    cap = cv2.VideoCapture(video_path)\n",
    "    frames = []\n",
    "    while True:\n",
    "        ret, frame = cap.read()\n",
    "        if not ret:\n",
    "            break\n",
    "        frames.append(frame)\n",
    "    cap.release()\n",
    "    return frames\n",
    "\n",
    "def save_video(output_video_frames, output_video_path):\n",
    "    fourcc = cv2.VideoWriter_fourcc(*'MJPG')\n",
    "    out = cv2.VideoWriter(output_video_path, fourcc, 24, (output_video_frames[0].shape[1], output_video_frames[0].shape[0]))\n",
    "    for frame in output_video_frames:\n",
    "        out.write(frame)\n",
    "    out.release()"
   ]
  },
  {
   "cell_type": "code",
   "execution_count": 1,
   "metadata": {
    "collapsed": false
   },
   "outputs": [
    {
     "ename": "NameError",
     "evalue": "name 'read_video' is not defined",
     "output_type": "error",
     "traceback": [
      "\u001b[1;31m---------------------------------------------------------------------------\u001b[0m",
      "\u001b[1;31mNameError\u001b[0m                                 Traceback (most recent call last)",
      "Cell \u001b[1;32mIn[1], line 2\u001b[0m\n\u001b[0;32m      1\u001b[0m video_path \u001b[38;5;241m=\u001b[39m \u001b[38;5;124m\"\u001b[39m\u001b[38;5;124mVID20240408175741.mp4\u001b[39m\u001b[38;5;124m\"\u001b[39m\n\u001b[1;32m----> 2\u001b[0m frames \u001b[38;5;241m=\u001b[39m \u001b[43mread_video\u001b[49m(video_path)\n\u001b[0;32m      3\u001b[0m output_video_frames \u001b[38;5;241m=\u001b[39m []\n\u001b[0;32m      4\u001b[0m \u001b[38;5;28;01mfor\u001b[39;00m frame \u001b[38;5;129;01min\u001b[39;00m frames:\n",
      "\u001b[1;31mNameError\u001b[0m: name 'read_video' is not defined"
     ]
    }
   ],
   "source": [
    "def render_video(video_path, output_video_path):\n",
    "    frames = read_video(video_path)\n",
    "    output_video_frames = []\n",
    "    for frame in frames:\n",
    "        frame = cv2.resize(frame, (640, 640))\n",
    "        results = model(frame)[0]\n",
    "        detections = sv.Detections.from_ultralytics(results)\n",
    "        labels = [model.model.names[class_id]\n",
    "                  for class_id in detections.class_id]\n",
    "        annotated_frame = bounding_box_annotator.annotate(\n",
    "            scene=frame, detections=detections)\n",
    "        annotated_frame = label_annotator.annotate(\n",
    "            scene=annotated_frame, detections=detections, labels=labels\n",
    "        )\n",
    "        output_video_frames.append(annotated_frame)\n",
    "    save_video(output_video_frames, output_video_path)\n",
    "\n",
    "\n",
    "video_path = \"VID20240408175741.mp4\"\n",
    "output_video_path = \"output.mp4\"\n",
    "render_video(video_path, output_video_path)"
   ]
  },
  {
   "cell_type": "code",
   "execution_count": null,
   "metadata": {},
   "outputs": [],
   "source": []
  },
  {
   "cell_type": "code",
   "execution_count": null,
   "metadata": {},
   "outputs": [],
   "source": []
  }
 ],
 "metadata": {
  "kernelspec": {
   "display_name": "Python 3",
   "language": "python",
   "name": "python3"
  },
  "language_info": {
   "codemirror_mode": {
    "name": "ipython",
    "version": 3
   },
   "file_extension": ".py",
   "mimetype": "text/x-python",
   "name": "python",
   "nbconvert_exporter": "python",
   "pygments_lexer": "ipython3",
   "version": "3.11.8"
  }
 },
 "nbformat": 4,
 "nbformat_minor": 2
}
