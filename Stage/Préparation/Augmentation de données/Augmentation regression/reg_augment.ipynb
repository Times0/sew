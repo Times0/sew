{
 "cells": [
  {
   "cell_type": "markdown",
   "metadata": {},
   "source": [
    "Notebook servant à faire l'augmentation de données pour le jeu de données de régression.\n",
    "\n",
    "Les données sont des images de colonnes de rolls détourées. complétées par des pixels noirs.\n",
    "\n",
    "lexique:\n",
    "- valeur: le nombre de rolls dans une image\n",
    "- nombre d'instances d'une valeur = nombre d'images avec \\<valeur> rolls"
   ]
  },
  {
   "cell_type": "code",
   "execution_count": 20,
   "metadata": {},
   "outputs": [],
   "source": [
    "import cv2\n",
    "from matplotlib import pyplot as plt\n",
    "%matplotlib inline\n",
    "import albumentations as A\n",
    "\n",
    "import json\n",
    "\n",
    "from glob import glob\n",
    "from random import randrange\n",
    "import os\n",
    "from tqdm import tqdm\n",
    "import shutil\n",
    "import re\n",
    "import pandas as pd\n",
    "\n",
    "import statistics\n",
    "import numpy as np"
   ]
  },
  {
   "cell_type": "markdown",
   "metadata": {},
   "source": [
    "## Initialisation des chemins utilisés"
   ]
  },
  {
   "cell_type": "code",
   "execution_count": 21,
   "metadata": {},
   "outputs": [],
   "source": [
    "name = 'R5' # Le nom du dossier final sera regression_datatset_<name>\n",
    "\n",
    "equilibrate = True # Si true, équilibre le nombre d'instance pour avoir le même nombre pour chaque valeur\n",
    "\n",
    "'''\n",
    "num_aug_max: int\n",
    "Le nombre d'images maximum crée par la première transformation pour chaque image source, \n",
    "peut être réduit si 'equilibrate = True' pour certaines images sources\n",
    "'''\n",
    "num_aug_max = 6\n",
    "\n",
    "'''\n",
    "src_dir: str\n",
    "Dossier source avec sous dossiers \"images\" et \"labels\" et fichier notes.json\n",
    "'''\n",
    "src_dir = \"source\"\n",
    "\n",
    "'''\n",
    "reg_res_path: str\n",
    "Dossier de sortie\n",
    "\n",
    "reg_res_path\n",
    "|- train\n",
    "|   |- img1.jpg\n",
    "|   |- img2.jpg\n",
    "|   |- ...\n",
    "|   |-file.json\n",
    "|- val\n",
    "|   |- img1.jpg\n",
    "|   |- img2.jpg\n",
    "|   |- ...\n",
    "|   |-file.json\n",
    "|- test\n",
    "|   |- ...\n",
    "'''\n",
    "reg_res_path = \"regression_datatset_\" + name"
   ]
  },
  {
   "cell_type": "markdown",
   "metadata": {},
   "source": [
    "## Augmentation\n",
    "\n",
    "Penser à modifier le chemin d'accès au données source si changements\n",
    "\n",
    "L'augmentation est faite en 2 étapes, une première avec des augmentation non systématiques (c'est à dire qu'elles ont des probabilité de ne pas ce produire) et une deuxième étape avec des augmentation systématiques (miroir entre autre)"
   ]
  },
  {
   "cell_type": "markdown",
   "metadata": {},
   "source": [
    "### Mise en place du dossier"
   ]
  },
  {
   "cell_type": "code",
   "execution_count": 22,
   "metadata": {},
   "outputs": [
    {
     "name": "stdout",
     "output_type": "stream",
     "text": [
      "[WinError 183] Impossible de créer un fichier déjà existant: 'regression_datatset_R5'\n",
      "[WinError 183] Impossible de créer un fichier déjà existant: 'regression_datatset_R5\\\\val'\n",
      "[WinError 183] Impossible de créer un fichier déjà existant: 'regression_datatset_R5\\\\train'\n"
     ]
    }
   ],
   "source": [
    "# création des dossier et des sous-dossiers\n",
    "splits = []\n",
    "for split in ['test', 'val', 'train']:\n",
    "    if split in os.listdir(src_dir):\n",
    "        splits .append(split)\n",
    "\n",
    "if reg_res_path:\n",
    "    try:\n",
    "        os.mkdir(reg_res_path)\n",
    "    except OSError as error:  \n",
    "        print(error)\n",
    "    for split in splits:\n",
    "        try:\n",
    "            os.mkdir(os.path.join(reg_res_path, split))\n",
    "        except OSError as error:  \n",
    "            print(error)"
   ]
  },
  {
   "cell_type": "markdown",
   "metadata": {},
   "source": [
    "### Copie des données val et test"
   ]
  },
  {
   "cell_type": "code",
   "execution_count": 23,
   "metadata": {},
   "outputs": [
    {
     "name": "stderr",
     "output_type": "stream",
     "text": [
      "files copied: 100%|██████████| 89/89 [00:00<00:00, 754.29it/s]\n"
     ]
    }
   ],
   "source": [
    "splits = []\n",
    "for split in ['test', 'val']:\n",
    "    if split in os.listdir(src_dir):\n",
    "        splits .append(split)\n",
    "        \n",
    "for split in splits:\n",
    "    src_path = os.path.join(src_dir, split)\n",
    "    targ_path = os.path.join(reg_res_path, split)\n",
    "    for file in tqdm(glob('*.jpg', dir_fd=src_path), desc = 'files copied'):\n",
    "        shutil.copy2(os.path.join(src_path, file), targ_path)\n",
    "    json_name = fname = glob('*.json', dir_fd=src_path)[0]\n",
    "    with open(os.path.join(src_path, json_name)) as json_f:\n",
    "            json_data = json.load(json_f)\n",
    "            labels_dict = {}\n",
    "            for data_field in json_data:\n",
    "                text = os.path.basename(data_field['captioning']) # keep only file name\n",
    "                img_name = re.search('-(.*)', text).group(1)\n",
    "                labels_dict[img_name] = int(data_field['caption'])\n",
    "    with open(os.path.join(targ_path, 'labels.json'), 'w') as res_json:\n",
    "        json.dump(labels_dict, res_json)"
   ]
  },
  {
   "cell_type": "markdown",
   "metadata": {},
   "source": [
    "### Création des données augmentées"
   ]
  },
  {
   "cell_type": "code",
   "execution_count": 24,
   "metadata": {},
   "outputs": [],
   "source": [
    "# dossier cibles\n",
    "img_src_path = os.path.join(src_dir, 'train')\n",
    "img_reg_res_path = os.path.join(reg_res_path, 'train')\n",
    "images = glob('*.jpg', dir_fd=img_src_path)\n",
    "\n",
    "# lier labels et images\n",
    "json_name = fname = glob('*.json', dir_fd=img_src_path)[0]\n",
    "with open(os.path.join(img_src_path, json_name)) as json_f:\n",
    "        json_data = json.load(json_f)\n",
    "        labels_dict = {}\n",
    "        for data_field in json_data:\n",
    "            text = os.path.basename(data_field['captioning']) # keep only file name\n",
    "            img_name = re.search('-(.*)', text).group(1) # ne garde sue la fin du nom du fichier dans le json (car label-studio chenge le nom des imaegs en ajoutant un identifiant)\n",
    "            labels_dict[img_name] = int(data_field['caption'])\n",
    "\n",
    "# préparation si on souhaite équilibreer les valeurs\n",
    "labels_list = labels_dict.values()\n",
    "labels_count = pd.DataFrame(labels_list, columns=[\"x\"]).groupby('x').size().to_dict() # compte le nombre d'instance pour chaque valeur\n",
    "min_count = min(labels_count, key=labels_count.get)\n",
    "max_nb_images = max(labels_count[min_count]*(num_aug_max+1), max(labels_count.values())) # nombre d'instance par valeur dans le dataset final\n",
    "labels_nb_aug_dict = {} # dictionnaire qui donne le nombre d'augmentation de base pour chaque valeur\n",
    "for key in labels_count.keys():\n",
    "      labels_nb_aug_dict[key] = max_nb_images//labels_count[key]-1\n",
    "bonus_img_gen = {}     # dictionnaire qui donne le nombre d'augmentation bonus pour avoir exactement le même nombre d'instances par valeur à la fin (ajoutera une image pour certaines image de certaines valeurs)\n",
    "for key in labels_count.keys():\n",
    "      bonus_img_gen[key] = max_nb_images - labels_count[key]*(labels_nb_aug_dict[key]+1)"
   ]
  },
  {
   "cell_type": "code",
   "execution_count": 25,
   "metadata": {},
   "outputs": [
    {
     "data": {
      "text/plain": [
       "{1: 15,\n",
       " 2: 33,\n",
       " 3: 18,\n",
       " 4: 106,\n",
       " 5: 12,\n",
       " 6: 16,\n",
       " 7: 12,\n",
       " 8: 37,\n",
       " 10: 16,\n",
       " 11: 16,\n",
       " 12: 4,\n",
       " 14: 4,\n",
       " 16: 4}"
      ]
     },
     "execution_count": 25,
     "metadata": {},
     "output_type": "execute_result"
    }
   ],
   "source": [
    "labels_count"
   ]
  },
  {
   "cell_type": "code",
   "execution_count": 26,
   "metadata": {},
   "outputs": [
    {
     "name": "stderr",
     "output_type": "stream",
     "text": [
      "images processed:   0%|          | 0/293 [00:00<?, ?it/s]"
     ]
    },
    {
     "name": "stderr",
     "output_type": "stream",
     "text": [
      "images processed: 100%|██████████| 293/293 [00:16<00:00, 17.69it/s]\n"
     ]
    }
   ],
   "source": [
    "# transformations\n",
    "transform1 = A.Compose(\n",
    "    [\n",
    "        # Pixels\n",
    "        A.RandomBrightnessContrast(p=0.2),\n",
    "        A.RandomGamma(p=0.2),\n",
    "        A.ISONoise(p=0.2),\n",
    "        A.GaussNoise(p=0.2),\n",
    "        A.CLAHE(p=0.2), # add contrast\n",
    "        A.RandomSunFlare(src_radius = 10, num_flare_circles_upper= 8, p=0.1), # attention au rayon, si trop grand peut entièrement caché une boite\n",
    "        A.RandomSunFlare(src_radius = 10, num_flare_circles_upper= 8, p=0.1),\n",
    "        A.RandomSunFlare(src_radius = 10, num_flare_circles_upper= 8, p=0.1), # plusieur pour avoir different angles (ils se forment en ligne)\n",
    "        \n",
    "        # Spatial\n",
    "        A.Rotate(limit=(-10, 10), p=0.3), # garder des angles raisonnables\n",
    "        A.PixelDropout(dropout_prob=0.01 ,p=0.5),\n",
    "    ]\n",
    ")\n",
    "\n",
    "transform2 = A.Compose(\n",
    "    [\n",
    "        A.HorizontalFlip(p=1),\n",
    "    ]\n",
    ")\n",
    "\n",
    "# Boucle d'augmentation des images\n",
    "for img_name in tqdm(images, desc = 'images processed'):\n",
    "    '''\n",
    "    Lecture des fichiers sources avec récupération des boîtes englobantes\n",
    "    '''\n",
    "    image = cv2.imread(os.path.join(img_src_path, img_name)) # lire l'image\n",
    "    label = labels_dict[img_name] # récupérer son annotation\n",
    "    if equilibrate: # détermine le nombre d'augmentations si on veux équilibrer\n",
    "        num_aug = labels_nb_aug_dict[label]\n",
    "        if bonus_img_gen[label] != 0: # +1 si il reste des compléments à faire\n",
    "            num_aug +=1\n",
    "            bonus_img_gen[label] -= 1\n",
    "    else:\n",
    "        num_aug = num_aug_max\n",
    "    \n",
    "    # copie de l'image source\n",
    "    shutil.copy2(os.path.join(img_src_path, img_name), img_reg_res_path)\n",
    "\n",
    "    '''\n",
    "    Création des images augmentées:\n",
    "        - transformation\n",
    "        - miroir de l'originale\n",
    "        - miroir de la transformée\n",
    "    '''\n",
    "    for ind in range(num_aug):\n",
    "        transformed = transform1(image=image)\n",
    "        transformed_mirror = transform2(image=transformed['image'])\n",
    "        cv2.imwrite(os.path.join(img_reg_res_path, \"transformed_\" + str(ind) + \"_\" + img_name), transformed['image'])\n",
    "        labels_dict[\"transformed_\" + str(ind) + \"_\" + img_name] = label\n",
    "        cv2.imwrite(os.path.join(img_reg_res_path, \"transformed_miroir_\" + str(ind) + \"_\" + img_name), transformed_mirror['image'])\n",
    "        labels_dict[\"transformed_miroir_\" + str(ind) + \"_\" + img_name] = label\n",
    "    mirror = transform2(image=image)\n",
    "    cv2.imwrite(os.path.join(img_reg_res_path, \"miroir_\" + img_name), mirror['image'])\n",
    "    labels_dict[\"miroir_\" + img_name] = label\n",
    "\n",
    "    # sauvegarde des labels\n",
    "    with open(os.path.join(img_reg_res_path, 'labels.json'), 'w') as res_json:\n",
    "        json.dump(labels_dict, res_json)"
   ]
  },
  {
   "cell_type": "markdown",
   "metadata": {},
   "source": [
    "# Inspection of Data distribution"
   ]
  },
  {
   "cell_type": "code",
   "execution_count": 27,
   "metadata": {},
   "outputs": [
    {
     "data": {
      "image/png": "[encoded data removed]",
      "text/plain": [
       "<Figure size 640x480 with 1 Axes>"
      ]
     },
     "metadata": {},
     "output_type": "display_data"
    },
    {
     "name": "stdout",
     "output_type": "stream",
     "text": [
      "moyenne de longeur des rangés:  7.615384615384615\n",
      "nombre d'images dans le dataset final:  2756\n"
     ]
    }
   ],
   "source": [
    "def parse_json(path):\n",
    "    \"\"\"Analyse le fichier json du dataset final\n",
    "\n",
    "    Args:\n",
    "        path str: Chemin vers le fichier json\n",
    "\n",
    "    Returns:\n",
    "        list: Liste des valeurs des annotations du jeu de donné\n",
    "    \"\"\"\n",
    "    fname = glob('*.json', dir_fd=path)[0]\n",
    "    with open(os.path.join(path, fname)) as json_f:\n",
    "        json_data = json.load(json_f)\n",
    "        labels = list(json_data.values())\n",
    "    return labels\n",
    "\n",
    "path = os.path.join(reg_res_path, 'train')\n",
    "data = parse_json(path)\n",
    "bins = np.linspace(min(data), max(data), max(data))\n",
    "counts, edges, bars = plt.hist(data, bins, alpha=1, histtype='bar', ec='black')\n",
    "plt.bar_label(bars)\n",
    "plt.title('label repartition')\n",
    "plt.xlabel('number of boxes on image')\n",
    "plt.ylabel('instances')\n",
    "plt.show()\n",
    "\n",
    "print('moyenne de longeur des rangés: ', statistics.mean(data))\n",
    "print(\"nombre d'images dans le dataset final: \", len(data))"
   ]
  }
 ],
 "metadata": {
  "kernelspec": {
   "display_name": "projet",
   "language": "python",
   "name": "python3"
  },
  "language_info": {
   "codemirror_mode": {
    "name": "ipython",
    "version": 3
   },
   "file_extension": ".py",
   "mimetype": "text/x-python",
   "name": "python",
   "nbconvert_exporter": "python",
   "pygments_lexer": "ipython3",
   "version": "3.12.4"
  }
 },
 "nbformat": 4,
 "nbformat_minor": 2
}
