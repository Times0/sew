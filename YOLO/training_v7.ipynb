{
 "cells": [
  {
   "cell_type": "code",
   "execution_count": null,
   "metadata": {},
   "outputs": [],
   "source": [
    "!pip install roboflow\n",
    "\n",
    "from roboflow import Roboflow\n",
    "rf = Roboflow(api_key=\"Z4mFtu232oWID8Vtcntw\")\n",
    "project = rf.workspace(\"testsew\").project(\"box-counting-dqcyf\")\n",
    "version = project.version(5)\n",
    "dataset = version.download(\"yolov7\")\n"
   ]
  },
  {
   "cell_type": "code",
   "execution_count": 1,
   "metadata": {},
   "outputs": [
    {
     "name": "stdout",
     "output_type": "stream",
     "text": [
      "CUDA available: True\n",
      "CUDA device: NVIDIA GeForce GTX 1070\n"
     ]
    }
   ],
   "source": [
    "import torch\n",
    "\n",
    "# You need to have torch and torchvision installed with cuda (https://pytorch.org/get-started/locally/)\n",
    "print(\"CUDA available:\", torch.cuda.is_available())\n",
    "print(\"CUDA device:\", torch.cuda.get_device_name(0))\n"
   ]
  },
  {
   "cell_type": "markdown",
   "metadata": {},
   "source": [
    "# Training\n",
    "The option multi scale at the end makes the training way slower."
   ]
  },
  {
   "cell_type": "code",
   "execution_count": null,
   "metadata": {},
   "outputs": [],
   "source": [
    "!python yolov7/train.py --epochs 100 --device 0 --workers 4 --batch-size 32 --data \"../Box-Counting-5/data.yaml\" --img 640 640 --cfg yolov7/cfg/training/yolov7-tiny_copy.yaml --weights '../models/yolov7-tiny.pt' --name yolo_v7_test_fine_tune --hyp yolov7/data/hyp.scratch.tiny.yaml --multi-scale"
   ]
  },
  {
   "cell_type": "markdown",
   "metadata": {},
   "source": [
    "# Inference"
   ]
  },
  {
   "cell_type": "code",
   "execution_count": 8,
   "metadata": {},
   "outputs": [
    {
     "name": "stdout",
     "output_type": "stream",
     "text": [
      "Namespace(weights=['runs/train/yolo_v7_test_fine_tune5/weights/best.pt'], source='../Box-Counting-5/train/images/IMG20240408175731_jpg.rf.bf1079d722c97f3f81a5f8d0d362ea8a.jpg', img_size=640, conf_thres=0.05, iou_thres=0.45, device='', view_img=False, save_txt=False, save_conf=False, nosave=False, classes=None, agnostic_nms=False, augment=False, update=False, project='runs/detect', name='exp', exist_ok=False, no_trace=False)\n",
      "Fusing layers... \n",
      "IDetect.fuse\n",
      " Convert model to Traced-model... \n",
      " traced_script_module saved! \n",
      " model is traced! \n",
      "\n",
      "5 Box4Gs, 22 Box8Gs, 10 BoxB4s, 22 BoxB8s, Done. (10.5ms) Inference, (625.6ms) NMS\n",
      " The image with the result is saved in: runs\\detect\\exp10\\IMG20240408175731_jpg.rf.bf1079d722c97f3f81a5f8d0d362ea8a.jpg\n",
      "Done. (1.255s)\n"
     ]
    },
    {
     "name": "stderr",
     "output_type": "stream",
     "text": [
      "YOLOR  v0.1-128-ga207844 torch 2.2.2+cu121 CUDA:0 (NVIDIA GeForce GTX 1070, 8191.75MB)\n",
      "\n",
      "d:\\Programmation\\TPS\\sew\\.venv\\Lib\\site-packages\\torch\\functional.py:507: UserWarning: torch.meshgrid: in an upcoming release, it will be required to pass the indexing argument. (Triggered internally at ..\\aten\\src\\ATen\\native\\TensorShape.cpp:3550.)\n",
      "  return _VF.meshgrid(tensors, **kwargs)  # type: ignore[attr-defined]\n",
      "Model Summary: 208 layers, 6015714 parameters, 0 gradients, 13.0 GFLOPS\n"
     ]
    }
   ],
   "source": [
    "!python yolov7/detect.py --weights runs/train/yolo_v7_test_fine_tune5/weights/best.pt --conf 0.05 --img-size 640 --source \"../Box-Counting-5/train/images/IMG20240408175731_jpg.rf.bf1079d722c97f3f81a5f8d0d362ea8a.jpg\""
   ]
  }
 ],
 "metadata": {
  "kernelspec": {
   "display_name": ".venv",
   "language": "python",
   "name": "python3"
  },
  "language_info": {
   "codemirror_mode": {
    "name": "ipython",
    "version": 3
   },
   "file_extension": ".py",
   "mimetype": "text/x-python",
   "name": "python",
   "nbconvert_exporter": "python",
   "pygments_lexer": "ipython3",
   "version": "3.11.6"
  }
 },
 "nbformat": 4,
 "nbformat_minor": 2
}
