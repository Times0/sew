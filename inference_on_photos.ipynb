{
 "cells": [
  {
   "cell_type": "code",
   "execution_count": null,
   "metadata": {},
   "outputs": [],
   "source": [
    "from ultralytics import YOLO\n",
    "import cv2\n",
    "import supervision as sv\n",
    "import matplotlib.pyplot as plt\n",
    "\n",
    "\n",
    "model = YOLO(\"runs/detect/train4/weights/best.pt\")\n"
   ]
  },
  {
   "cell_type": "code",
   "execution_count": null,
   "metadata": {},
   "outputs": [],
   "source": [
    "import glob\n",
    "\n",
    "bounding_box_annotator = sv.BoundingBoxAnnotator()\n",
    "label_annotator = sv.LabelAnnotator()\n",
    "\n",
    "\n",
    "for image_path in glob.glob(\"data/4G/*.JPG\") + glob.glob(\"data/B4/*.JPG\"):\n",
    "    image = cv2.imread(image_path)\n",
    "    image = cv2.resize(image, (640, 640))\n",
    "    results = model(image)[0]\n",
    "    detections = sv.Detections.from_ultralytics(results)\n",
    "    labels = [model.model.names[class_id] for class_id in detections.class_id]\n",
    "    annotated_image = bounding_box_annotator.annotate(scene=image, detections=detections)\n",
    "    annotated_image = label_annotator.annotate(\n",
    "        scene=annotated_image, detections=detections, labels=labels\n",
    "    )\n",
    "    plt.imshow(cv2.cvtColor(annotated_image, cv2.COLOR_BGR2RGB))\n",
    "    plt.axis(\"off\")\n",
    "    plt.show()"
   ]
  }
 ],
 "metadata": {
  "kernelspec": {
   "display_name": "Python 3",
   "language": "python",
   "name": "python3"
  },
  "language_info": {
   "codemirror_mode": {
    "name": "ipython",
    "version": 3
   },
   "file_extension": ".py",
   "mimetype": "text/x-python",
   "name": "python",
   "nbconvert_exporter": "python",
   "pygments_lexer": "ipython3",
   "version": "3.10.12"
  }
 },
 "nbformat": 4,
 "nbformat_minor": 2
}
